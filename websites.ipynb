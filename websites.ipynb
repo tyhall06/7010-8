{
 "cells": [
  {
   "cell_type": "markdown",
   "metadata": {},
   "source": [
    "# Useful Articles to Help Outline a Module\n",
    "\n",
    "- [8 steps to telling a story with data](https://www.maptive.com/101-guide-telling-compelling-story-data/)\n",
    "- [Google's Telling a Story with Data](https://www.thinkwithgoogle.com/articles/tell-meaningful-stories-with-data.html)\n",
    "- [Harvard Business Review](https://hbr.org/2013/04/how-to-tell-a-story-with-data/)\n",
    "- [Jeff Heer's Lab Website](http://idl.cs.washington.edu)"
   ]
  }
 ],
 "metadata": {
  "kernelspec": {
   "display_name": "Python 3",
   "language": "python",
   "name": "python3"
  },
  "language_info": {
   "codemirror_mode": {
    "name": "ipython",
    "version": 3
   },
   "file_extension": ".py",
   "mimetype": "text/x-python",
   "name": "python",
   "nbconvert_exporter": "python",
   "pygments_lexer": "ipython3",
   "version": "3.4.5"
  }
 },
 "nbformat": 4,
 "nbformat_minor": 2
}
